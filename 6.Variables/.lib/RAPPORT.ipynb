{
 "cells": [
  {
   "cell_type": "markdown",
   "id": "62ffb924",
   "metadata": {},
   "source": [
    "# 🐍 Variables en Python\n",
    "Ce notebook démontre les différents **types de variables** en Python :\n",
    "- `0b` (binaire)\n",
    "- `0x` (hexadécimal)\n",
    "- `int` (entier)\n",
    "- `float` (nombre décimal)\n",
    "- `str` (chaîne de caractères)\n",
    "- `list` (liste)\n",
    "- `tuple` (tuple)\n",
    "- `array` (tableau du module `array`)\n",
    "- `dict` (dictionnaire)\n"
   ]
  },
  {
   "cell_type": "markdown",
   "id": "10f6d280",
   "metadata": {},
   "source": [
    "## ⚙️ 1. Valeur binaire (`bin`)"
   ]
  },
  {
   "cell_type": "code",
   "execution_count": 1,
   "id": "d2a22190",
   "metadata": {},
   "outputs": [
    {
     "name": "stdout",
     "output_type": "stream",
     "text": [
      "Valeur binaire : 42 | Type : <class 'int'>\n",
      "En binaire : 0b101010\n"
     ]
    }
   ],
   "source": [
    "binaire = 0b101010\n",
    "print(\"Valeur binaire :\", binaire, \"| Type :\", type(binaire))\n",
    "print(\"En binaire :\", bin(binaire))"
   ]
  },
  {
   "cell_type": "markdown",
   "id": "1ee88afb",
   "metadata": {},
   "source": [
    "## 🔢 2. Valeur hexadécimale (`hex`)"
   ]
  },
  {
   "cell_type": "code",
   "execution_count": 2,
   "id": "c7900541",
   "metadata": {},
   "outputs": [
    {
     "name": "stdout",
     "output_type": "stream",
     "text": [
      "Valeur hexadécimale : 6719 | Type : <class 'int'>\n",
      "En hexadécimal : 0x1a3f\n"
     ]
    }
   ],
   "source": [
    "hexadecimale = 0x1A3F\n",
    "print(\"Valeur hexadécimale :\", hexadecimale, \"| Type :\", type(hexadecimale))\n",
    "print(\"En hexadécimal :\", hex(hexadecimale))"
   ]
  },
  {
   "cell_type": "markdown",
   "id": "c9da3a5e",
   "metadata": {},
   "source": [
    "## 🔢 3. Variable entière (`int`)"
   ]
  },
  {
   "cell_type": "code",
   "execution_count": 3,
   "id": "ce9710ef",
   "metadata": {},
   "outputs": [
    {
     "name": "stdout",
     "output_type": "stream",
     "text": [
      "Âge : 25 | Type : <class 'int'>\n"
     ]
    }
   ],
   "source": [
    "age = 25\n",
    "print(\"Âge :\", age, \"| Type :\", type(age))"
   ]
  },
  {
   "cell_type": "markdown",
   "id": "1db999a5",
   "metadata": {},
   "source": [
    "## 💧 4. Nombre décimal (`float`)"
   ]
  },
  {
   "cell_type": "code",
   "execution_count": 4,
   "id": "fc77c5ed",
   "metadata": {},
   "outputs": [
    {
     "name": "stdout",
     "output_type": "stream",
     "text": [
      "Température : 36.6 | Type : <class 'float'>\n"
     ]
    }
   ],
   "source": [
    "temperature = 36.6\n",
    "print(\"Température :\", temperature, \"| Type :\", type(temperature))"
   ]
  },
  {
   "cell_type": "markdown",
   "id": "2c507ec9",
   "metadata": {},
   "source": [
    "## 📝 5. Chaîne de caractères (`str`)"
   ]
  },
  {
   "cell_type": "code",
   "execution_count": 5,
   "id": "2ebb1496",
   "metadata": {},
   "outputs": [
    {
     "name": "stdout",
     "output_type": "stream",
     "text": [
      "Nom : Valiha | Type : <class 'str'>\n"
     ]
    }
   ],
   "source": [
    "nom = \"Valiha\"\n",
    "print(\"Nom :\", nom, \"| Type :\", type(nom))"
   ]
  },
  {
   "cell_type": "markdown",
   "id": "cb71f085",
   "metadata": {},
   "source": [
    "## 📜 6. Liste (`list`) – modifiable"
   ]
  },
  {
   "cell_type": "code",
   "execution_count": 6,
   "id": "bfe0009d",
   "metadata": {},
   "outputs": [
    {
     "name": "stdout",
     "output_type": "stream",
     "text": [
      "Liste de fruits : ['pomme', 'banane', 'cerise'] | Type : <class 'list'>\n"
     ]
    }
   ],
   "source": [
    "fruits = [\"pomme\", \"banane\", \"cerise\"]\n",
    "print(\"Liste de fruits :\", fruits, \"| Type :\", type(fruits))"
   ]
  },
  {
   "cell_type": "markdown",
   "id": "e2310aa3",
   "metadata": {},
   "source": [
    "## 📦 7. Tuple (`tuple`) – non modifiable"
   ]
  },
  {
   "cell_type": "code",
   "execution_count": 7,
   "id": "76a05586",
   "metadata": {},
   "outputs": [
    {
     "name": "stdout",
     "output_type": "stream",
     "text": [
      "Coordonnées : (45.5, -73.6) | Type : <class 'tuple'>\n"
     ]
    }
   ],
   "source": [
    "coordonnees = (45.5, -73.6)\n",
    "print(\"Coordonnées :\", coordonnees, \"| Type :\", type(coordonnees))"
   ]
  },
  {
   "cell_type": "markdown",
   "id": "4ba85a7f",
   "metadata": {},
   "source": [
    "## 🧮 8. Tableau (`array`) du module `array`"
   ]
  },
  {
   "cell_type": "code",
   "execution_count": 8,
   "id": "63805d24",
   "metadata": {},
   "outputs": [
    {
     "name": "stdout",
     "output_type": "stream",
     "text": [
      "Tableau : array('i', [1, 2, 3, 4, 5]) | Type : <class 'array.array'>\n"
     ]
    }
   ],
   "source": [
    "from array import array\n",
    "nombres = array('i', [1, 2, 3, 4, 5])\n",
    "print(\"Tableau :\", nombres, \"| Type :\", type(nombres))"
   ]
  },
  {
   "cell_type": "markdown",
   "id": "fdc06874",
   "metadata": {},
   "source": [
    "## 🗂️ 9. Dictionnaire (`dict`)"
   ]
  },
  {
   "cell_type": "code",
   "execution_count": 9,
   "id": "0ef4cf74",
   "metadata": {},
   "outputs": [
    {
     "name": "stdout",
     "output_type": "stream",
     "text": [
      "Dictionnaire étudiant : {'nom': 'Brice', 'programme': 'INF1042', 'note': 95} | Type : <class 'dict'>\n"
     ]
    }
   ],
   "source": [
    "etudiant = {\n",
    "    'nom': 'Brice',\n",
    "    'programme': 'INF1042',\n",
    "    'note': 95\n",
    "}\n",
    "print(\"Dictionnaire étudiant :\", etudiant, \"| Type :\", type(etudiant))"
   ]
  },
  {
   "cell_type": "markdown",
   "id": "3463c314",
   "metadata": {},
   "source": [
    "## ✅ Résumé des types"
   ]
  },
  {
   "cell_type": "code",
   "execution_count": 10,
   "id": "93aa307f",
   "metadata": {},
   "outputs": [
    {
     "name": "stdout",
     "output_type": "stream",
     "text": [
      "\n",
      "--- RÉSUMÉ ---\n",
      "42 → int\n",
      "6719 → int\n",
      "25 → int\n",
      "36.6 → float\n",
      "Valiha → str\n",
      "['pomme', 'banane', 'cerise'] → list\n",
      "(45.5, -73.6) → tuple\n",
      "array('i', [1, 2, 3, 4, 5]) → array\n",
      "{'nom': 'Brice', 'programme': 'INF1042', 'note': 95} → dict\n"
     ]
    }
   ],
   "source": [
    "print(\"\\n--- RÉSUMÉ ---\")\n",
    "for var in [binaire, hexadecimale, age, temperature, nom, fruits, coordonnees, nombres, etudiant]:\n",
    "    print(f\"{var} → {type(var).__name__}\")"
   ]
  }
 ],
 "metadata": {
  "kernelspec": {
   "display_name": "Python 3 (ipykernel)",
   "language": "python",
   "name": "python3"
  },
  "language_info": {
   "codemirror_mode": {
    "name": "ipython",
    "version": 3
   },
   "file_extension": ".py",
   "mimetype": "text/x-python",
   "name": "python",
   "nbconvert_exporter": "python",
   "pygments_lexer": "ipython3",
   "version": "3.11.14"
  }
 },
 "nbformat": 4,
 "nbformat_minor": 5
}
