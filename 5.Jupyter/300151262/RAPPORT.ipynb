{
 "cells": [
  {
   "cell_type": "markdown",
   "id": "1bdf51cb-f373-49cc-b1ca-b05a96d124f2",
   "metadata": {},
   "source": [
    "Ma petite variable iteriation $f_x = x + 1$"
   ]
  },
  {
   "cell_type": "code",
   "execution_count": 1,
   "id": "63bdfbe5-8d9d-499a-b802-ceca101a8915",
   "metadata": {},
   "outputs": [],
   "source": [
    "i=0"
   ]
  },
  {
   "cell_type": "code",
   "execution_count": null,
   "id": "94e3eaa7-af47-440f-93e0-79869b721a30",
   "metadata": {},
   "outputs": [],
   "source": []
  }
 ],
 "metadata": {
  "kernelspec": {
   "display_name": "Python 3 (ipykernel)",
   "language": "python",
   "name": "python3"
  },
  "language_info": {
   "codemirror_mode": {
    "name": "ipython",
    "version": 3
   },
   "file_extension": ".py",
   "mimetype": "text/x-python",
   "name": "python",
   "nbconvert_exporter": "python",
   "pygments_lexer": "ipython3",
   "version": "3.12.9"
  }
 },
 "nbformat": 4,
 "nbformat_minor": 5
}
