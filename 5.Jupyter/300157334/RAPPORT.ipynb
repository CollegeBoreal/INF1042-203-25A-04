{
 "cells": [
  {
   "cell_type": "markdown",
   "id": "c073d062-ec9a-430d-81c9-6efe6668271d",
   "metadata": {},
   "source": [
    "$f(x)=x + 1$"
   ]
  },
  {
   "cell_type": "code",
   "execution_count": 1,
   "id": "cd76c9ee-a8ab-4448-b903-7cf4b79271ac",
   "metadata": {},
   "outputs": [],
   "source": [
    "i= 0\n"
   ]
  },
  {
   "cell_type": "code",
   "execution_count": null,
   "id": "9306b9ef-6ced-4da2-a797-2d3bbdee8254",
   "metadata": {},
   "outputs": [],
   "source": []
  },
  {
   "cell_type": "code",
   "execution_count": null,
   "id": "8d425d31-9fda-4cc3-8460-d02e3bafe9df",
   "metadata": {},
   "outputs": [],
   "source": []
  }
 ],
 "metadata": {
  "kernelspec": {
   "display_name": "Python 3 (ipykernel)",
   "language": "python",
   "name": "python3"
  },
  "language_info": {
   "codemirror_mode": {
    "name": "ipython",
    "version": 3
   },
   "file_extension": ".py",
   "mimetype": "text/x-python",
   "name": "python",
   "nbconvert_exporter": "python",
   "pygments_lexer": "ipython3",
   "version": "3.12.9"
  }
 },
 "nbformat": 4,
 "nbformat_minor": 5
}
