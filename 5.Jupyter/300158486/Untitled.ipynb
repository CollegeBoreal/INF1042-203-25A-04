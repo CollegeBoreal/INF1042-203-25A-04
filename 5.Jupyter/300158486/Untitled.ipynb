{
 "cells": [
  {
   "cell_type": "code",
   "execution_count": null,
   "id": "d2f43686-5476-47e3-abe9-0f0e97150c14",
   "metadata": {},
   "outputs": [],
   "source": [
    "function start-jupyter {\n",
    "    conda activate INF1042-203-25A-04\n",
    "    jupyter lab\n",
    "}"
   ]
  }
 ],
 "metadata": {
  "kernelspec": {
   "display_name": "Python 3 (ipykernel)",
   "language": "python",
   "name": "python3"
  },
  "language_info": {
   "codemirror_mode": {
    "name": "ipython",
    "version": 3
   },
   "file_extension": ".py",
   "mimetype": "text/x-python",
   "name": "python",
   "nbconvert_exporter": "python",
   "pygments_lexer": "ipython3",
   "version": "3.12.12"
  }
 },
 "nbformat": 4,
 "nbformat_minor": 5
}
