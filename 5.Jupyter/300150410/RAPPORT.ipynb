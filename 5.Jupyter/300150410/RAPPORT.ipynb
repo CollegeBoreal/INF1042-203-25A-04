{
 "cells": [
  {
   "cell_type": "code",
   "execution_count": 5,
   "id": "174c4ecb-17ac-48dc-a56f-de2717024d27",
   "metadata": {},
   "outputs": [
    {
     "ename": "SyntaxError",
     "evalue": "invalid syntax (1247218654.py, line 1)",
     "output_type": "error",
     "traceback": [
      "  \u001b[36mCell\u001b[39m\u001b[36m \u001b[39m\u001b[32mIn[5]\u001b[39m\u001b[32m, line 1\u001b[39m\n\u001b[31m    \u001b[39m\u001b[31m$ f_x = x+1 $\u001b[39m\n    ^\n\u001b[31mSyntaxError\u001b[39m\u001b[31m:\u001b[39m invalid syntax\n"
     ]
    }
   ],
   "source": [
    "HELLO $f_x= x+1$"
   ]
  },
  {
   "cell_type": "code",
   "execution_count": 3,
   "id": "a6b447a1-cf8f-496b-abfa-a87d743cf59e",
   "metadata": {},
   "outputs": [],
   "source": [
    "i=0"
   ]
  }
 ],
 "metadata": {
  "kernelspec": {
   "display_name": "Python 3 (ipykernel)",
   "language": "python",
   "name": "python3"
  },
  "language_info": {
   "codemirror_mode": {
    "name": "ipython",
    "version": 3
   },
   "file_extension": ".py",
   "mimetype": "text/x-python",
   "name": "python",
   "nbconvert_exporter": "python",
   "pygments_lexer": "ipython3",
   "version": "3.12.12"
  }
 },
 "nbformat": 4,
 "nbformat_minor": 5
}
