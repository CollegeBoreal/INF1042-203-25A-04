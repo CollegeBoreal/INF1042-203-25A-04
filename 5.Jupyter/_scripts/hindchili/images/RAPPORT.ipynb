{
 "cells": [
  {
   "cell_type": "markdown",
   "id": "76dab044-0a24-47a8-bdf1-fc7f19bd1b88",
   "metadata": {},
   "source": [
    "# Rapport — Hind Chili ✅\n",
    "\n",
    "J’ai complété les tâches suivantes :\n",
    "\n",
    "✔ Création du fichier README.md\n",
    "✔ Création du dossier images/\n",
    "✔ Ajout d'une capture d’écran d"
   ]
  },
  {
   "cell_type": "code",
   "execution_count": null,
   "id": "19b14026-d3ef-47bc-b664-a325b4755f1e",
   "metadata": {},
   "outputs": [],
   "source": []
  },
  {
   "cell_type": "code",
   "execution_count": null,
   "id": "03032b01-1b2f-47c6-9928-6877ede63c56",
   "metadata": {},
   "outputs": [],
   "source": []
  },
  {
   "cell_type": "code",
   "execution_count": null,
   "id": "8a91acbd-d1e0-4260-8075-0710a19a5196",
   "metadata": {},
   "outputs": [],
   "source": []
  },
  {
   "cell_type": "code",
   "execution_count": null,
   "id": "0cea4a33-bd8a-4b70-80f0-d9929452c8ef",
   "metadata": {},
   "outputs": [],
   "source": []
  },
  {
   "cell_type": "code",
   "execution_count": null,
   "id": "c4fa2d56-0627-49ff-8144-c718f682d3e0",
   "metadata": {},
   "outputs": [],
   "source": []
  },
  {
   "cell_type": "code",
   "execution_count": null,
   "id": "d10359e3-2696-4dba-8842-23b154f28925",
   "metadata": {},
   "outputs": [],
   "source": [
    "\n"
   ]
  },
  {
   "cell_type": "code",
   "execution_count": null,
   "id": "18b3072d-66e0-476d-ad77-65e987e0649c",
   "metadata": {},
   "outputs": [],
   "source": []
  },
  {
   "cell_type": "code",
   "execution_count": null,
   "id": "e5ceb604-d684-4cdf-999a-61d9a609ac5d",
   "metadata": {},
   "outputs": [],
   "source": []
  }
 ],
 "metadata": {
  "kernelspec": {
   "display_name": "Python 3 (ipykernel)",
   "language": "python",
   "name": "python3"
  },
  "language_info": {
   "codemirror_mode": {
    "name": "ipython",
    "version": 3
   },
   "file_extension": ".py",
   "mimetype": "text/x-python",
   "name": "python",
   "nbconvert_exporter": "python",
   "pygments_lexer": "ipython3",
   "version": "3.12.12"
  }
 },
 "nbformat": 4,
 "nbformat_minor": 5
}
