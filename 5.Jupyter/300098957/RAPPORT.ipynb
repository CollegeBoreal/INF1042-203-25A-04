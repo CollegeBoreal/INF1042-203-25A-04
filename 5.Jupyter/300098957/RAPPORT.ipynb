{
 "cells": [
  {
   "cell_type": "markdown",
   "id": "5ea869d4-9fef-4071-8282-6e37242b475d",
   "metadata": {},
   "source": [
    "$f(x) = x +1$"
   ]
  },
  {
   "cell_type": "code",
   "execution_count": 1,
   "id": "11720adf-cd45-404b-b9c5-f81a8267e873",
   "metadata": {},
   "outputs": [],
   "source": [
    "i=0"
   ]
  },
  {
   "cell_type": "code",
   "execution_count": 2,
   "id": "4df118a5-5183-4ac9-9f8e-2d1ea6ba2520",
   "metadata": {},
   "outputs": [],
   "source": [
    "i=\"HOHO\""
   ]
  },
  {
   "cell_type": "code",
   "execution_count": 3,
   "id": "a9cf861f-602c-40c8-b801-41ae32af1c67",
   "metadata": {},
   "outputs": [
    {
     "data": {
      "text/plain": [
       "'HOHO'"
      ]
     },
     "execution_count": 3,
     "metadata": {},
     "output_type": "execute_result"
    }
   ],
   "source": [
    "i"
   ]
  }
 ],
 "metadata": {
  "kernelspec": {
   "display_name": "Python 3 (ipykernel)",
   "language": "python",
   "name": "python3"
  },
  "language_info": {
   "codemirror_mode": {
    "name": "ipython",
    "version": 3
   },
   "file_extension": ".py",
   "mimetype": "text/x-python",
   "name": "python",
   "nbconvert_exporter": "python",
   "pygments_lexer": "ipython3",
   "version": "3.12.12"
  }
 },
 "nbformat": 4,
 "nbformat_minor": 5
}
